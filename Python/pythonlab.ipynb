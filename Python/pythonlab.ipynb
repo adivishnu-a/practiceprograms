{
 "cells": [
  {
   "cell_type": "code",
   "execution_count": 19,
   "metadata": {},
   "outputs": [],
   "source": [
    "#str\n",
    "#int\n",
    "#float"
   ]
  },
  {
   "cell_type": "code",
   "execution_count": 20,
   "metadata": {},
   "outputs": [
    {
     "name": "stdout",
     "output_type": "stream",
     "text": [
      "<class 'int'>\n"
     ]
    },
    {
     "data": {
      "text/plain": [
       "23"
      ]
     },
     "execution_count": 20,
     "metadata": {},
     "output_type": "execute_result"
    }
   ],
   "source": [
    "b1=int(a1)\n",
    "print(type(b1))\n",
    "b1+3"
   ]
  },
  {
   "cell_type": "code",
   "execution_count": 21,
   "metadata": {},
   "outputs": [
    {
     "name": "stdout",
     "output_type": "stream",
     "text": [
      "['False', 'None', 'True', 'and', 'as', 'assert', 'async', 'await', 'break', 'class', 'continue', 'def', 'del', 'elif', 'else', 'except', 'finally', 'for', 'from', 'global', 'if', 'import', 'in', 'is', 'lambda', 'nonlocal', 'not', 'or', 'pass', 'raise', 'return', 'try', 'while', 'with', 'yield']\n"
     ]
    }
   ],
   "source": [
    "import keyword as key\n",
    "print(key.kwlist)"
   ]
  },
  {
   "cell_type": "markdown",
   "metadata": {},
   "source": [
    "####Operators in python\n",
    "\n",
    "- Arithmetic operators\n",
    "    - +, -, *, /, //, %, **\n",
    "\n",
    "- Assignment operators\n",
    "    - =, +=, -=, *=, /=, //=, %=, **=\n",
    "\n",
    "- Comparision operators\n",
    "    - ==, !=, >, <, >=, <=\n",
    "\n",
    "- Logical operators\n",
    "    - and, or, not\n",
    "\n",
    "- Membership operators\n",
    "    - in, not in\n",
    "\n",
    "- Identity operators\n",
    "    - is, is not\n",
    "\n",
    "- Bitwise operators\n",
    "    - &, |, ^, ~, <<, >>"
   ]
  },
  {
   "cell_type": "code",
   "execution_count": 22,
   "metadata": {},
   "outputs": [
    {
     "name": "stdout",
     "output_type": "stream",
     "text": [
      "70\n",
      "-10\n",
      "1200\n",
      "0.75\n",
      "0\n",
      "30\n",
      "121576654590569288010000000000000000000000000000000000000000\n"
     ]
    }
   ],
   "source": [
    "#Arithmetic operators\n",
    "a, b = 30, 40\n",
    "print(a+b)\n",
    "print(a-b)\n",
    "print(a*b)\n",
    "print(a/b)\n",
    "print(a//b)\n",
    "print(a%b)\n",
    "print(a**b)"
   ]
  },
  {
   "cell_type": "code",
   "execution_count": 23,
   "metadata": {},
   "outputs": [
    {
     "name": "stdout",
     "output_type": "stream",
     "text": [
      "False\n",
      "True\n",
      "False\n"
     ]
    }
   ],
   "source": [
    "#comparision operators\n",
    "x, y, z = \"Adi\", \"Vishnu\", \"Hello\"\n",
    "x1, x2 = 30, 40\n",
    "print(x==y)\n",
    "print(y>z)\n",
    "print(x1>x2)"
   ]
  },
  {
   "cell_type": "code",
   "execution_count": 24,
   "metadata": {},
   "outputs": [
    {
     "name": "stdout",
     "output_type": "stream",
     "text": [
      "True\n",
      "False\n",
      "False\n",
      "False\n"
     ]
    }
   ],
   "source": [
    "#logical operators\n",
    "b1=100\n",
    "b2=200\n",
    "b3=500\n",
    "print(b1<b2 and b2<b3)  #T and T\n",
    "print(b1>b2 and b2<b3)  #F and T\n",
    "print(b1>b2 and b2<b3)  #F and F\n",
    "print(b1<b2 and b2>b3)  #T and F\n"
   ]
  },
  {
   "cell_type": "code",
   "execution_count": 25,
   "metadata": {},
   "outputs": [
    {
     "name": "stdout",
     "output_type": "stream",
     "text": [
      "True\n",
      "True\n",
      "False\n"
     ]
    }
   ],
   "source": [
    "#membership operators\n",
    "s = \"Good Morning\"\n",
    "print(\"Good\" in s)\n",
    "print(\"i\" in s)\n",
    "print(\"x\" in s)"
   ]
  },
  {
   "cell_type": "code",
   "execution_count": 26,
   "metadata": {},
   "outputs": [
    {
     "name": "stdout",
     "output_type": "stream",
     "text": [
      "False\n",
      "False\n",
      "True\n"
     ]
    }
   ],
   "source": [
    "#identity operators\n",
    "x, y, z = \"Adi\", \"Vishnu\", \"SRM\"\n",
    "print(x is y)\n",
    "print(y is z)\n",
    "print(x is not z)"
   ]
  },
  {
   "cell_type": "code",
   "execution_count": 27,
   "metadata": {},
   "outputs": [
    {
     "name": "stdout",
     "output_type": "stream",
     "text": [
      "0\n",
      "12\n"
     ]
    }
   ],
   "source": [
    "#bitwise operators\n",
    "a = 4 #0100\n",
    "b = 8 #1000\n",
    "print(a&b)\n",
    "print(a|b)"
   ]
  },
  {
   "cell_type": "code",
   "execution_count": 28,
   "metadata": {},
   "outputs": [
    {
     "name": "stdout",
     "output_type": "stream",
     "text": [
      "6\n"
     ]
    }
   ],
   "source": [
    "a, b, c = 4, 5, 6\n",
    "max = (a if a>c else c) if a>b else (b if b>c else c)\n",
    "print(max)"
   ]
  },
  {
   "cell_type": "markdown",
   "metadata": {},
   "source": [
    "#Program1"
   ]
  },
  {
   "cell_type": "code",
   "execution_count": 29,
   "metadata": {},
   "outputs": [
    {
     "name": "stdout",
     "output_type": "stream",
     "text": [
      "14.142135623730951\n"
     ]
    }
   ],
   "source": [
    "x1, x2, y1, y2 = 10, 20, 20, 30\n",
    "dist = ((x2-x1)**2 + (y2-y1)**2)**(1/2)\n",
    "print(dist)"
   ]
  },
  {
   "cell_type": "markdown",
   "metadata": {},
   "source": [
    "#Program2"
   ]
  },
  {
   "cell_type": "code",
   "execution_count": 30,
   "metadata": {},
   "outputs": [
    {
     "name": "stdout",
     "output_type": "stream",
     "text": [
      "The sum of marks is :  290\n",
      "The percentage is :  58.0\n",
      "Grade E\n"
     ]
    }
   ],
   "source": [
    "s1 = int(input(\"Enter the marks of subject 1 : \"))\n",
    "s2 = int(input(\"Enter the marks of subject 2 : \"))\n",
    "s3 = int(input(\"Enter the marks of subject 3 : \"))\n",
    "s4 = int(input(\"Enter the marks of subject 4 : \"))\n",
    "s5 = int(input(\"Enter the marks of subject 5 : \"))\n",
    "sum = s1+s2+s3+s4+s5\n",
    "perc=sum*0.2\n",
    "print(\"The sum of marks is : \", sum)\n",
    "print(\"The percentage is : \", perc)\n",
    "if(perc>=90):\n",
    "    print(\"Grade A\")\n",
    "elif(perc>=80):\n",
    "    print(\"Grade B\")\n",
    "elif(perc>=70):\n",
    "    print(\"Grade C\")\n",
    "elif(perc>=60):\n",
    "    print(\"Grade D\")\n",
    "elif(perc>=40):\n",
    "    print(\"Grade E\")\n",
    "else:\n",
    "    print(\"FAIL\")"
   ]
  },
  {
   "cell_type": "markdown",
   "metadata": {},
   "source": [
    "#Program3"
   ]
  },
  {
   "cell_type": "code",
   "execution_count": 31,
   "metadata": {},
   "outputs": [
    {
     "name": "stdout",
     "output_type": "stream",
     "text": [
      "The largest number is C =  6\n"
     ]
    }
   ],
   "source": [
    "a = eval(input(\"Enter the value of A : \"))\n",
    "b = eval(input(\"Enter the value of B : \"))\n",
    "c = eval(input(\"Enter the value of C : \"))\n",
    "if(a>b):\n",
    "    if(a>c):\n",
    "        print(\"The largest number is A = \", a)\n",
    "    else:\n",
    "        print(\"The largest number is C = \", c)\n",
    "else:\n",
    "    if(b>c):\n",
    "        print(\"The largest number is B = \", b)\n",
    "    else:\n",
    "        print(\"The largest number is C = \", c)\n",
    "\n"
   ]
  },
  {
   "cell_type": "markdown",
   "metadata": {},
   "source": [
    "#Program4"
   ]
  },
  {
   "cell_type": "code",
   "execution_count": 10,
   "metadata": {},
   "outputs": [
    {
     "name": "stdout",
     "output_type": "stream",
     "text": [
      "The roots are real and unequal\n",
      "The roots of the equation are :  -2.54 and -9.46\n"
     ]
    }
   ],
   "source": [
    "a = int(input(\"Enter the value of a : \"))\n",
    "b = int(input(\"Enter the value of b : \"))\n",
    "c = int(input(\"Enter the value of c : \"))\n",
    "d = (b*b)-4*a*c\n",
    "if(d<0):\n",
    "    print(\"The roots are imaginary\")\n",
    "else:\n",
    "    if(d==0):\n",
    "        print(\"The roots are real and equal\")\n",
    "    else:\n",
    "        print(\"The roots are real and unequal\")\n",
    "    root1 = (-b+d**0.5)*0.5*a\n",
    "    root2 = (-b-d**0.5)*0.5*a\n",
    "    print(\"The roots of the equation are : \", \"{:.2f}\".format(root1), \"and\", \"{:.2f}\".format(root2))"
   ]
  },
  {
   "cell_type": "markdown",
   "metadata": {},
   "source": [
    "#Program5"
   ]
  },
  {
   "cell_type": "code",
   "execution_count": 51,
   "metadata": {},
   "outputs": [
    {
     "name": "stdout",
     "output_type": "stream",
     "text": [
      "Sum of Angles in a Triangle is 180 degress\n",
      "Triangle is possible\n"
     ]
    }
   ],
   "source": [
    "a,b,c=[int(x) for x in input(\"Enter 3 Angles of Triangle:\").split()]\n",
    "print(\"Sum of Angles in a Triangle is 180 degress\")\n",
    "sum=a+b+c\n",
    "if(sum<180 or a==180 or b==180 or c==180):\n",
    "    print(\"Triangle is not possible\")    \n",
    "else:\n",
    "    print(\"Triangle is possible\")"
   ]
  },
  {
   "cell_type": "markdown",
   "metadata": {},
   "source": [
    "#Program6"
   ]
  },
  {
   "cell_type": "code",
   "execution_count": 11,
   "metadata": {},
   "outputs": [
    {
     "name": "stdout",
     "output_type": "stream",
     "text": [
      "Gross salary is  56250.00 Rupees\n"
     ]
    }
   ],
   "source": [
    "bsal = float(input(\"Enter the salary : \"))\n",
    "hra, da = 0, 0\n",
    "if(bsal <= 10000):\n",
    "    hra = bsal*0.20\n",
    "    da = bsal*0.80\n",
    "elif(bsal <= 20000):\n",
    "    hra = bsal*0.25\n",
    "    da = bsal*0.90\n",
    "else:\n",
    "    hra = bsal*0.30\n",
    "    da = bsal*0.95\n",
    "gross = bsal+hra+da\n",
    "print(\"Gross salary is \", \"{:.2f}\".format(gross), \"Rupees\")"
   ]
  },
  {
   "cell_type": "code",
   "execution_count": 22,
   "metadata": {},
   "outputs": [
    {
     "name": "stdout",
     "output_type": "stream",
     "text": [
      "3 , 6 , 9 , 12 , 15 , 18 , 21 , 24 , \n",
      "Sum of the series =  108\n"
     ]
    }
   ],
   "source": [
    "sum = 0\n",
    "for i in range(1, 9):\n",
    "    print(3*i,\", \",end=\"\")\n",
    "    sum=sum+(3*i)\n",
    "print(\"\\nSum of the series = \", sum)"
   ]
  },
  {
   "cell_type": "markdown",
   "metadata": {},
   "source": [
    "#Program15"
   ]
  },
  {
   "cell_type": "code",
   "execution_count": 13,
   "metadata": {},
   "outputs": [
    {
     "name": "stdout",
     "output_type": "stream",
     "text": [
      "1/2 + 1/3 + 1/4 + 1/5 + \n",
      "The sum of series 1.2833333333333332\n"
     ]
    }
   ],
   "source": [
    "x=int(input(\"Enter x:\"))\n",
    "sum = 0\n",
    "for i in range(1,x):\n",
    "    x=1/(i+1)\n",
    "    print(\"1/\",i+1,\" + \",sep=\"\",end=\"\")\n",
    "    sum=sum+x\n",
    "print(\"\\nThe sum of series\",sum)"
   ]
  },
  {
   "cell_type": "markdown",
   "metadata": {},
   "source": [
    "#Program16"
   ]
  },
  {
   "cell_type": "code",
   "execution_count": 3,
   "metadata": {},
   "outputs": [
    {
     "name": "stdout",
     "output_type": "stream",
     "text": [
      "Sum of integers given is... 45\n"
     ]
    }
   ],
   "source": [
    "sum = 0\n",
    "while True:\n",
    "    d = int(input(\"Enter integers: \"))\n",
    "    if(d==0):\n",
    "        break\n",
    "    sum = sum + d\n",
    "print(\"Sum of integers given is...\",sum)"
   ]
  },
  {
   "cell_type": "markdown",
   "metadata": {},
   "source": [
    "#Program17"
   ]
  },
  {
   "cell_type": "code",
   "execution_count": 5,
   "metadata": {},
   "outputs": [
    {
     "name": "stdout",
     "output_type": "stream",
     "text": [
      "1 23 29 31 37 41 43 47 53 59 61 67 71 73 79 83 89 97 101 103 107 109 113 127 131 137 139 149 151 157 163 167 173 179 181 191 193 197 199 211 223 227 229 233 239 241 251 257 263 269 271 277 281 283 293 307 311 313 317 331 337 347 349 353 359 367 373 379 383 389 397 401 409 419 421 431 433 439 443 449 457 461 463 467 479 487 491 499 503 509 521 523 529 541 547 557 563 569 571 577 587 593 599 601 607 613 617 619 631 641 643 647 653 659 661 667 673 677 683 691 701 709 713 719 727 733 739 743 751 757 761 769 773 787 797 809 811 821 823 827 829 839 841 851 853 857 859 863 877 881 883 887 899 907 911 919 929 937 941 943 947 953 961 967 971 977 983 989 991 997 "
     ]
    }
   ],
   "source": [
    "for i in range (1, 1001):\n",
    "    if(i%2 != 0 and i%3 != 0 and i%5 != 0 and i%7 != 0 and i%11 != 0 and i%13 != 0 and i%17 != 0 and i%19 != 0):\n",
    "        print(i, end=\" \")"
   ]
  },
  {
   "cell_type": "markdown",
   "metadata": {},
   "source": [
    "#Program18"
   ]
  },
  {
   "cell_type": "code",
   "execution_count": 7,
   "metadata": {},
   "outputs": [
    {
     "name": "stdout",
     "output_type": "stream",
     "text": [
      "The HCF of the two numbers is :  12\n"
     ]
    }
   ],
   "source": [
    "a = int(input(\"Enter any number : \"))\n",
    "b = int(input(\"Enter another number : \"))\n",
    "while(b):\n",
    "    a, b = b, a % b\n",
    "hcf = a\n",
    "print(\"The HCF of the two numbers is : \", hcf)"
   ]
  },
  {
   "cell_type": "markdown",
   "metadata": {},
   "source": [
    "#Program19"
   ]
  },
  {
   "cell_type": "code",
   "execution_count": 10,
   "metadata": {},
   "outputs": [
    {
     "name": "stdout",
     "output_type": "stream",
     "text": [
      "153 is an Armstrong number\n"
     ]
    }
   ],
   "source": [
    "num = int(input(\"Enter any number : \"))\n",
    "order = len(str(num))\n",
    "sum = 0\n",
    "temp = num\n",
    "while temp > 0:\n",
    "   digit = temp % 10\n",
    "   sum += digit ** order\n",
    "   temp //= 10\n",
    "if num == sum:\n",
    "   print(num,\"is an Armstrong number\")\n",
    "else:\n",
    "   print(num,\"is not an Armstrong number\")"
   ]
  },
  {
   "cell_type": "markdown",
   "metadata": {},
   "source": [
    "#Program20"
   ]
  },
  {
   "cell_type": "code",
   "execution_count": 13,
   "metadata": {},
   "outputs": [
    {
     "name": "stdout",
     "output_type": "stream",
     "text": [
      "The entered number is : 1452\n",
      "The new number is :  2451\n"
     ]
    }
   ],
   "source": [
    "num=input(\"Enter a number :\") \n",
    "newnum=num[-1]+num[1:-1]+num[0]\n",
    "print(\"The entered number is :\",num)\n",
    "print(\"The new number is : \",newnum)"
   ]
  },
  {
   "cell_type": "markdown",
   "metadata": {},
   "source": [
    "#Program21"
   ]
  },
  {
   "cell_type": "code",
   "execution_count": 20,
   "metadata": {},
   "outputs": [
    {
     "name": "stdout",
     "output_type": "stream",
     "text": [
      "Prime numbers between 1 and 120 are:\n",
      "2 3 5 7 11 13 17 19 23 29 31 37 41 43 47 53 59 61 67 71 73 79 83 89 97 101 103 107 109 113 "
     ]
    }
   ],
   "source": [
    "N = int(input(\"Enter the value of N :\"))\n",
    "print(\"Prime numbers between\", 1, \"and\", N, \"are:\")\n",
    "for num in range(1, N + 1):\n",
    "   \n",
    "   if num > 1:\n",
    "       for i in range(2, num):\n",
    "           if (num % i) == 0:\n",
    "               break\n",
    "       else:\n",
    "           print(num, end=\" \")"
   ]
  },
  {
   "cell_type": "markdown",
   "metadata": {},
   "source": [
    "#Program22"
   ]
  },
  {
   "cell_type": "code",
   "execution_count": 33,
   "metadata": {},
   "outputs": [
    {
     "name": "stdout",
     "output_type": "stream",
     "text": [
      "* \n",
      "* * \n",
      "* * * \n",
      "* * * * \n",
      "* * * * * \n",
      "* * * * \n",
      "* * * \n",
      "* * \n",
      "* \n"
     ]
    }
   ],
   "source": [
    "for i in range (1, 6):\n",
    "    for j in range (1, i+1):\n",
    "        print(\"*\", end=\" \")\n",
    "    print()\n",
    "for i in range (4, 0, -1):\n",
    "    for j in range (1, i+1):\n",
    "        print(\"*\", end=\" \")\n",
    "    print()"
   ]
  },
  {
   "cell_type": "markdown",
   "metadata": {},
   "source": [
    "#File System"
   ]
  },
  {
   "cell_type": "code",
   "execution_count": 17,
   "metadata": {},
   "outputs": [
    {
     "name": "stdout",
     "output_type": "stream",
     "text": [
      "Hello World. It's me Adi. How're you?\n",
      "Hello World. It's me Adi. How're you? Hola!\n"
     ]
    }
   ],
   "source": [
    "File = open(\"filename.txt\", \"w\")\n",
    "File.write(\"Hello World. It's me Adi. How're you?\")\n",
    "File = open(\"filename.txt\", \"r\")\n",
    "print(File.read())\n",
    "File = open(\"filename.txt\", \"a\")\n",
    "File.write(\" Hola!\")\n",
    "File = open(\"filename.txt\", \"r\")\n",
    "print(File.read())\n",
    "File.close()"
   ]
  }
 ],
 "metadata": {
  "kernelspec": {
   "display_name": "Python 3.11.0 64-bit",
   "language": "python",
   "name": "python3"
  },
  "language_info": {
   "codemirror_mode": {
    "name": "ipython",
    "version": 3
   },
   "file_extension": ".py",
   "mimetype": "text/x-python",
   "name": "python",
   "nbconvert_exporter": "python",
   "pygments_lexer": "ipython3",
   "version": "3.11.0 (main, Oct 24 2022, 18:26:48) [MSC v.1933 64 bit (AMD64)]"
  },
  "orig_nbformat": 4,
  "vscode": {
   "interpreter": {
    "hash": "14a047b3ab8c058dfa04ca81eed526aeef754bcda3a648037d7fe9161bdac83c"
   }
  }
 },
 "nbformat": 4,
 "nbformat_minor": 2
}
