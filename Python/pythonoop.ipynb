{
 "cells": [
  {
   "cell_type": "code",
   "execution_count": 3,
   "metadata": {},
   "outputs": [
    {
     "name": "stdout",
     "output_type": "stream",
     "text": [
      "employee name= abc\n",
      "employee code= 101\n",
      "employee detail xyz\n",
      "employee department= cse\n"
     ]
    }
   ],
   "source": [
    "class Employee:\n",
    "    emp_name=\"abc\"\n",
    "    emp_code=101\n",
    "    emp_dep=\"cse\"\n",
    "    emp_add=\"xyz\"\n",
    "    def read(self):\n",
    "        print(\"employee name=\", self.emp_name) \n",
    "        print(\"employee code=\", self.emp_code) \n",
    "        print(\"employee detail\", Employee.emp_add)\n",
    "        print(\"employee department=\", self.emp_dep)\n",
    "\n",
    "a = Employee()\n",
    "a.read()"
   ]
  },
  {
   "cell_type": "code",
   "execution_count": 8,
   "metadata": {},
   "outputs": [
    {
     "name": "stdout",
     "output_type": "stream",
     "text": [
      "Company Name : Company 1\n",
      "Car Model : Model 1\n",
      "Milage : 50\n",
      "Company Name : Company 2\n",
      "Car Model : Model 2\n",
      "Milage : 60\n"
     ]
    }
   ],
   "source": [
    "class Car:\n",
    "    #com=0\n",
    "    #model=0\n",
    "    #milage=0\n",
    "    def getdata(self):\n",
    "        self.com=input(\"Enter Company Name : \")\n",
    "        self.model=input(\"Enter Car Model : \")\n",
    "        self.milage=input(\"Enter Car Milage : \")\n",
    "    def putdata(self):\n",
    "        print(\"Company Name :\",self.com)\n",
    "        print(\"Car Model :\",self.model)\n",
    "        print(\"Milage :\",self.milage)\n",
    "\n",
    "c = Car()\n",
    "c1 = Car()\n",
    "c1.getdata()\n",
    "c1.putdata()\n",
    "c.getdata()\n",
    "c.putdata()"
   ]
  },
  {
   "cell_type": "code",
   "execution_count": 6,
   "metadata": {},
   "outputs": [
    {
     "name": "stdout",
     "output_type": "stream",
     "text": [
      "Computer Name : Legion 5\n",
      "Computer Code : 15ACH6\n",
      "Release Year : 2021\n"
     ]
    }
   ],
   "source": [
    "class Computer:\n",
    "    cmp_name=cmp_code=cmp_year=\"\"\n",
    "    def write(self):\n",
    "        self.cmp_name = input(\"Enter Computer Name : \")\n",
    "        self.cmp_code = input(\"Enter Computer Model : \")\n",
    "        self.cmp_year = input(\"Enter Release Year :\")\n",
    "    def read(self):\n",
    "        print(\"Computer Name :\",self.cmp_name)\n",
    "        print(\"Computer Code :\",self.cmp_code)\n",
    "        print(\"Release Year :\",self.cmp_year)\n",
    "\n",
    "obj = Computer()\n",
    "obj.write()\n",
    "obj.read()"
   ]
  },
  {
   "cell_type": "code",
   "execution_count": null,
   "metadata": {},
   "outputs": [],
   "source": [
    "class computer:\n",
    "    def _init_(self,memory,display,chipset,price):\n",
    "        self.memory=memory\n",
    "        self.display=display\n",
    "        self.chipset=chipset\n",
    "        self.price=float(price)\n",
    "    \n",
    "    def displayinfo(self):\n",
    "        print(\"Computer RAM: \",self.memory)\n",
    "        print(\"Computer display: \",self.display)\n",
    "        print(\"Computer chipset: \",self.chipset)\n",
    "        print(\"Computer price: \",self.price)\n",
    "        print()\n",
    "\n",
    "computer1=computer(\"8GB\",\"14 inch\",\"intel i5\",45000)\n",
    "computer2=computer(\"16GB\",\"16 inch\",\"AMD ryzen series 7\",720000)\n",
    "print(\"Computer 1 details...\\n\")\n",
    "computer1.displayinfo()\n",
    "print(\"Computer 2 details...\\n\")\n",
    "computer2.displayinfo()"
   ]
  }
 ],
 "metadata": {
  "kernelspec": {
   "display_name": "Python 3.11.0 64-bit",
   "language": "python",
   "name": "python3"
  },
  "language_info": {
   "codemirror_mode": {
    "name": "ipython",
    "version": 3
   },
   "file_extension": ".py",
   "mimetype": "text/x-python",
   "name": "python",
   "nbconvert_exporter": "python",
   "pygments_lexer": "ipython3",
   "version": "3.11.0"
  },
  "orig_nbformat": 4,
  "vscode": {
   "interpreter": {
    "hash": "14a047b3ab8c058dfa04ca81eed526aeef754bcda3a648037d7fe9161bdac83c"
   }
  }
 },
 "nbformat": 4,
 "nbformat_minor": 2
}
