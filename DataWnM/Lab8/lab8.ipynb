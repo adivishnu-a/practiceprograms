{
 "cells": [
  {
   "cell_type": "code",
   "execution_count": 25,
   "metadata": {},
   "outputs": [
    {
     "name": "stdout",
     "output_type": "stream",
     "text": [
      " -> A (Support: 0.6119, Confidence: 0.612)\n",
      " -> B (Support: 0.5887, Confidence: 0.589)\n",
      " -> C (Support: 0.6038, Confidence: 0.604)\n",
      " -> D (Support: 0.5968, Confidence: 0.597)\n",
      " -> E (Support: 0.5956, Confidence: 0.596)\n",
      "A -> B (Support: 0.3345, Confidence: 0.547)\n",
      "A -> C (Support: 0.3439, Confidence: 0.562)\n",
      "A -> D (Support: 0.3377, Confidence: 0.552)\n",
      "A -> E (Support: 0.3415, Confidence: 0.558)\n",
      "B -> C (Support: 0.328, Confidence: 0.557)\n",
      "B -> D (Support: 0.3246, Confidence: 0.551)\n",
      "B -> E (Support: 0.3209, Confidence: 0.545)\n",
      "C -> D (Support: 0.3287, Confidence: 0.544)\n",
      "C -> E (Support: 0.3381, Confidence: 0.56)\n",
      "D -> E (Support: 0.3275, Confidence: 0.549)\n"
     ]
    }
   ],
   "source": [
    "from apyori import apriori\n",
    "\n",
    "def loader(filename):\n",
    "    transactions = []\n",
    "    with open(filename, 'r') as file:\n",
    "        for line in file:\n",
    "            transaction = line.strip().split()\n",
    "            transactions.append(transaction)\n",
    "    return transactions\n",
    "\n",
    "def find_rules(transactions, min_support, min_confidence):\n",
    "    results = list(apriori(transactions, min_support=min_support, min_confidence=min_confidence))\n",
    "    return results\n",
    "\n",
    "filename = \"C:\\\\Users\\\\adivi\\\\Documents\\\\GitHub\\\\practiceprograms\\\\DataWnM\\\\Lab8\\\\transactions3.txt\"\n",
    "\n",
    "min_support = 0.3  \n",
    "min_confidence = 0.5  \n",
    "\n",
    "transactions = loader(filename)\n",
    "\n",
    "association_rules = find_rules(transactions, min_support, min_confidence)\n",
    "\n",
    "for rule in association_rules:\n",
    "    antecedent = ', '.join(rule.ordered_statistics[0].items_base)\n",
    "    consequent = ', '.join(rule.ordered_statistics[0].items_add)\n",
    "    print(f\"{antecedent} -> {consequent} (Support: {rule.support}, Confidence: {round(rule.ordered_statistics[0].confidence, 3)})\")"
   ]
  }
 ],
 "metadata": {
  "kernelspec": {
   "display_name": "Python 3",
   "language": "python",
   "name": "python3"
  },
  "language_info": {
   "codemirror_mode": {
    "name": "ipython",
    "version": 3
   },
   "file_extension": ".py",
   "mimetype": "text/x-python",
   "name": "python",
   "nbconvert_exporter": "python",
   "pygments_lexer": "ipython3",
   "version": "3.11.4"
  }
 },
 "nbformat": 4,
 "nbformat_minor": 2
}
