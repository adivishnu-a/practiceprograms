{
 "cells": [
  {
   "cell_type": "code",
   "execution_count": 49,
   "metadata": {},
   "outputs": [
    {
     "data": {
      "text/html": [
       "<div>\n",
       "<style scoped>\n",
       "    .dataframe tbody tr th:only-of-type {\n",
       "        vertical-align: middle;\n",
       "    }\n",
       "\n",
       "    .dataframe tbody tr th {\n",
       "        vertical-align: top;\n",
       "    }\n",
       "\n",
       "    .dataframe thead th {\n",
       "        text-align: right;\n",
       "    }\n",
       "</style>\n",
       "<table border=\"1\" class=\"dataframe\">\n",
       "  <thead>\n",
       "    <tr style=\"text-align: right;\">\n",
       "      <th></th>\n",
       "      <th>EmpName</th>\n",
       "      <th>EmpId</th>\n",
       "      <th>EmpDesig</th>\n",
       "      <th>EmpSalary</th>\n",
       "    </tr>\n",
       "  </thead>\n",
       "  <tbody>\n",
       "    <tr>\n",
       "      <th>0</th>\n",
       "      <td>T. Ramesh</td>\n",
       "      <td>20001</td>\n",
       "      <td>Asst. Prof.</td>\n",
       "      <td>150000.0</td>\n",
       "    </tr>\n",
       "    <tr>\n",
       "      <th>1</th>\n",
       "      <td>M. Soumya</td>\n",
       "      <td>20002</td>\n",
       "      <td>Asst. Prof.</td>\n",
       "      <td>120000.0</td>\n",
       "    </tr>\n",
       "    <tr>\n",
       "      <th>2</th>\n",
       "      <td>R. Shyam</td>\n",
       "      <td>20003</td>\n",
       "      <td>NaN</td>\n",
       "      <td>140000.0</td>\n",
       "    </tr>\n",
       "    <tr>\n",
       "      <th>3</th>\n",
       "      <td>S. Raghu</td>\n",
       "      <td>NaN</td>\n",
       "      <td>Asst. Prof.</td>\n",
       "      <td>NaN</td>\n",
       "    </tr>\n",
       "  </tbody>\n",
       "</table>\n",
       "</div>"
      ],
      "text/plain": [
       "     EmpName  EmpId     EmpDesig  EmpSalary\n",
       "0  T. Ramesh  20001  Asst. Prof.   150000.0\n",
       "1  M. Soumya  20002  Asst. Prof.   120000.0\n",
       "2   R. Shyam  20003          NaN   140000.0\n",
       "3   S. Raghu    NaN  Asst. Prof.        NaN"
      ]
     },
     "execution_count": 49,
     "metadata": {},
     "output_type": "execute_result"
    }
   ],
   "source": [
    "import pandas as pd\n",
    "import numpy as np\n",
    "data = {\n",
    "    \"EmpName\": [\"T. Ramesh\", \"M. Soumya\", \"R. Shyam\", \"S. Raghu\"],\n",
    "    \"EmpId\": ['20001', '20002', '20003', np.nan],\n",
    "    \"EmpDesig\": [\"Asst. Prof.\", \"Asst. Prof.\", np.nan, \"Asst. Prof.\"],\n",
    "    \"EmpSalary\": [150000, 120000, 140000, np.nan]\n",
    "}\n",
    "df = pd.DataFrame(data)\n",
    "df"
   ]
  },
  {
   "cell_type": "code",
   "execution_count": 50,
   "metadata": {},
   "outputs": [
    {
     "data": {
      "text/html": [
       "<div>\n",
       "<style scoped>\n",
       "    .dataframe tbody tr th:only-of-type {\n",
       "        vertical-align: middle;\n",
       "    }\n",
       "\n",
       "    .dataframe tbody tr th {\n",
       "        vertical-align: top;\n",
       "    }\n",
       "\n",
       "    .dataframe thead th {\n",
       "        text-align: right;\n",
       "    }\n",
       "</style>\n",
       "<table border=\"1\" class=\"dataframe\">\n",
       "  <thead>\n",
       "    <tr style=\"text-align: right;\">\n",
       "      <th></th>\n",
       "      <th>EmpName</th>\n",
       "      <th>EmpId</th>\n",
       "      <th>EmpDesig</th>\n",
       "      <th>EmpSalary</th>\n",
       "    </tr>\n",
       "  </thead>\n",
       "  <tbody>\n",
       "    <tr>\n",
       "      <th>0</th>\n",
       "      <td>T. Ramesh</td>\n",
       "      <td>20001</td>\n",
       "      <td>Asst. Prof.</td>\n",
       "      <td>150000.000000</td>\n",
       "    </tr>\n",
       "    <tr>\n",
       "      <th>1</th>\n",
       "      <td>M. Soumya</td>\n",
       "      <td>20002</td>\n",
       "      <td>Asst. Prof.</td>\n",
       "      <td>120000.000000</td>\n",
       "    </tr>\n",
       "    <tr>\n",
       "      <th>2</th>\n",
       "      <td>R. Shyam</td>\n",
       "      <td>20003</td>\n",
       "      <td>NA</td>\n",
       "      <td>140000.000000</td>\n",
       "    </tr>\n",
       "    <tr>\n",
       "      <th>3</th>\n",
       "      <td>S. Raghu</td>\n",
       "      <td>NA</td>\n",
       "      <td>Asst. Prof.</td>\n",
       "      <td>136666.666667</td>\n",
       "    </tr>\n",
       "  </tbody>\n",
       "</table>\n",
       "</div>"
      ],
      "text/plain": [
       "     EmpName  EmpId     EmpDesig      EmpSalary\n",
       "0  T. Ramesh  20001  Asst. Prof.  150000.000000\n",
       "1  M. Soumya  20002  Asst. Prof.  120000.000000\n",
       "2   R. Shyam  20003           NA  140000.000000\n",
       "3   S. Raghu     NA  Asst. Prof.  136666.666667"
      ]
     },
     "execution_count": 50,
     "metadata": {},
     "output_type": "execute_result"
    }
   ],
   "source": [
    "df[\"EmpSalary\"].replace(np.nan,df[\"EmpSalary\"].mean(),inplace=True)\n",
    "df.replace(np.nan,\"NA\",inplace=True)\n",
    "df"
   ]
  },
  {
   "cell_type": "code",
   "execution_count": 57,
   "metadata": {},
   "outputs": [],
   "source": [
    "with open(\"Employee.txt\",\"w\") as f:\n",
    "    f.write(str(df))"
   ]
  }
 ],
 "metadata": {
  "kernelspec": {
   "display_name": "Python 3",
   "language": "python",
   "name": "python3"
  },
  "language_info": {
   "codemirror_mode": {
    "name": "ipython",
    "version": 3
   },
   "file_extension": ".py",
   "mimetype": "text/x-python",
   "name": "python",
   "nbconvert_exporter": "python",
   "pygments_lexer": "ipython3",
   "version": "3.11.4"
  },
  "orig_nbformat": 4
 },
 "nbformat": 4,
 "nbformat_minor": 2
}
