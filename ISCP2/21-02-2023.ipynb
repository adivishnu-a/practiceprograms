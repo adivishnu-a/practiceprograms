{
 "cells": [
  {
   "cell_type": "code",
   "execution_count": 6,
   "metadata": {},
   "outputs": [],
   "source": [
    "if []:\n",
    "    print(\"Empty String\")"
   ]
  },
  {
   "cell_type": "code",
   "execution_count": 7,
   "metadata": {},
   "outputs": [],
   "source": [
    "a = 100\n",
    "if a!=100:\n",
    "    print(\"This will execute when true\")"
   ]
  },
  {
   "cell_type": "code",
   "execution_count": 8,
   "metadata": {},
   "outputs": [
    {
     "name": "stdout",
     "output_type": "stream",
     "text": [
      "+ve\n"
     ]
    }
   ],
   "source": [
    "a = int(input(\"Enter value : \"))\n",
    "if a < 0:\n",
    "    print(\"-ve\")\n",
    "else:\n",
    "    print(\"+ve\")"
   ]
  },
  {
   "cell_type": "code",
   "execution_count": 16,
   "metadata": {},
   "outputs": [
    {
     "name": "stdout",
     "output_type": "stream",
     "text": [
      "2 5 8\n"
     ]
    }
   ],
   "source": [
    "print(*range(2,10,3))"
   ]
  },
  {
   "cell_type": "code",
   "execution_count": 17,
   "metadata": {},
   "outputs": [
    {
     "name": "stdout",
     "output_type": "stream",
     "text": [
      "Not in limit\n"
     ]
    }
   ],
   "source": [
    "a = int(input(\"Enter value : \"))\n",
    "if 1<=a<=100:\n",
    "    print(\"In limit\")\n",
    "else:\n",
    "    print(\"Not in limit\")"
   ]
  },
  {
   "cell_type": "code",
   "execution_count": 6,
   "metadata": {},
   "outputs": [
    {
     "name": "stdout",
     "output_type": "stream",
     "text": [
      "It is equilateral Triangle\n"
     ]
    }
   ],
   "source": [
    "a,b,c = [int(x) for x in input(\"Enter 3 sides : \").split()]\n",
    "if(a==b and b==c and c==a):\n",
    "    print(\"It is equilateral Triangle\")\n",
    "elif(a==b or b==c and a==c):\n",
    "    print(\"Isosceles Triangle\")\n",
    "else:\n",
    "    print(\"Scalene Triangle\")\n"
   ]
  },
  {
   "cell_type": "code",
   "execution_count": 7,
   "metadata": {},
   "outputs": [
    {
     "name": "stdout",
     "output_type": "stream",
     "text": [
      "MB\n"
     ]
    }
   ],
   "source": [
    "b = int(input(\"Enter Berth Number : \"))\n",
    "if b%8==1 or b%8==4:\n",
    "    print(\"LB\")\n",
    "elif b%8==2 or b%8==5:\n",
    "    print(\"MB\")\n",
    "elif b%8==3 or b%8==6:\n",
    "    print(\"MB\")\n",
    "elif b%8==7:\n",
    "    print(\"SLB\")\n",
    "else:\n",
    "    print(\"SUB\")"
   ]
  },
  {
   "cell_type": "code",
   "execution_count": null,
   "metadata": {},
   "outputs": [],
   "source": []
  }
 ],
 "metadata": {
  "kernelspec": {
   "display_name": "Python 3",
   "language": "python",
   "name": "python3"
  },
  "language_info": {
   "codemirror_mode": {
    "name": "ipython",
    "version": 3
   },
   "file_extension": ".py",
   "mimetype": "text/x-python",
   "name": "python",
   "nbconvert_exporter": "python",
   "pygments_lexer": "ipython3",
   "version": "3.11.0"
  },
  "orig_nbformat": 4,
  "vscode": {
   "interpreter": {
    "hash": "14a047b3ab8c058dfa04ca81eed526aeef754bcda3a648037d7fe9161bdac83c"
   }
  }
 },
 "nbformat": 4,
 "nbformat_minor": 2
}
