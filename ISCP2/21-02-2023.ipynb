{
 "cells": [
  {
   "cell_type": "code",
   "execution_count": 6,
   "metadata": {},
   "outputs": [],
   "source": [
    "if []:\n",
    "    print(\"Empty String\")"
   ]
  },
  {
   "cell_type": "code",
   "execution_count": 7,
   "metadata": {},
   "outputs": [],
   "source": [
    "a = 100\n",
    "if a!=100:\n",
    "    print(\"This will execute when true\")"
   ]
  },
  {
   "cell_type": "code",
   "execution_count": 8,
   "metadata": {},
   "outputs": [
    {
     "name": "stdout",
     "output_type": "stream",
     "text": [
      "+ve\n"
     ]
    }
   ],
   "source": [
    "a = int(input(\"Enter value : \"))\n",
    "if a < 0:\n",
    "    print(\"-ve\")\n",
    "else:\n",
    "    print(\"+ve\")"
   ]
  },
  {
   "cell_type": "code",
   "execution_count": 16,
   "metadata": {},
   "outputs": [
    {
     "name": "stdout",
     "output_type": "stream",
     "text": [
      "2 5 8\n"
     ]
    }
   ],
   "source": [
    "print(*range(2,10,3))"
   ]
  },
  {
   "cell_type": "code",
   "execution_count": 17,
   "metadata": {},
   "outputs": [
    {
     "name": "stdout",
     "output_type": "stream",
     "text": [
      "Not in limit\n"
     ]
    }
   ],
   "source": [
    "a = int(input(\"Enter value : \"))\n",
    "if 1<=a<=100:\n",
    "    print(\"In limit\")\n",
    "else:\n",
    "    print(\"Not in limit\")"
   ]
  },
  {
   "cell_type": "code",
   "execution_count": 6,
   "metadata": {},
   "outputs": [
    {
     "name": "stdout",
     "output_type": "stream",
     "text": [
      "It is equilateral Triangle\n"
     ]
    }
   ],
   "source": [
    "a,b,c = [int(x) for x in input(\"Enter 3 sides : \").split()]\n",
    "if(a==b and b==c and c==a):\n",
    "    print(\"It is equilateral Triangle\")\n",
    "elif(a==b or b==c and a==c):\n",
    "    print(\"Isosceles Triangle\")\n",
    "else:\n",
    "    print(\"Scalene Triangle\")\n"
   ]
  },
  {
   "cell_type": "code",
   "execution_count": 7,
   "metadata": {},
   "outputs": [
    {
     "name": "stdout",
     "output_type": "stream",
     "text": [
      "MB\n"
     ]
    }
   ],
   "source": [
    "b = int(input(\"Enter Berth Number : \"))\n",
    "if b%8==1 or b%8==4:\n",
    "    print(\"LB\")\n",
    "elif b%8==2 or b%8==5:\n",
    "    print(\"MB\")\n",
    "elif b%8==3 or b%8==6:\n",
    "    print(\"MB\")\n",
    "elif b%8==7:\n",
    "    print(\"SLB\")\n",
    "else:\n",
    "    print(\"SUB\")"
   ]
  },
  {
   "cell_type": "code",
   "execution_count": 2,
   "metadata": {},
   "outputs": [
    {
     "name": "stdout",
     "output_type": "stream",
     "text": [
      "BILL =  1790\n"
     ]
    }
   ],
   "source": [
    "cmr = int(input(\"Enter current month reading:\"))\n",
    "pmr = int(input(\"Enter previous month reading:\"))\n",
    "nou = cmr - pmr\n",
    "bill = 0\n",
    "if nou >= 1 and nou <= 100:\n",
    "    bill = nou * 2 + 10\n",
    "elif nou >= 101 and nou <= 250:\n",
    "    bill = (100*2) + (nou-100)*3+20\n",
    "elif nou >= 251 and nou <= 500:\n",
    "    bill = (100*2) + (150*3) + (nou-250)*4+30\n",
    "elif nou >= 501 and nou <= 1000:\n",
    "    bill = (100*2) + (150*3) + (250*4) + (nou-500)*5+40\n",
    "else:\n",
    "    bill = (100*2) + (150*3) + (250*4) + (500*5) + (nou-1000)*7+100\n",
    "print(\"BILL = \",bill)"
   ]
  },
  {
   "cell_type": "code",
   "execution_count": 4,
   "metadata": {},
   "outputs": [
    {
     "name": "stdout",
     "output_type": "stream",
     "text": [
      "Dog years =  73\n"
     ]
    }
   ],
   "source": [
    "ha = int(input(\"Enter Dog's age in human years : \"))\n",
    "da = 0\n",
    "if ha<0:\n",
    "    print(\"Not Valid\")\n",
    "else:\n",
    "    if ha<=2:\n",
    "        da=(int)(ha*10.5)\n",
    "    else:\n",
    "        da=(int)((2*10.5)+(ha-2)*4)\n",
    "    print(\"Dog years = \",da)"
   ]
  },
  {
   "cell_type": "code",
   "execution_count": 5,
   "metadata": {},
   "outputs": [
    {
     "name": "stdout",
     "output_type": "stream",
     "text": [
      "* \n",
      "* * \n",
      "* * * \n",
      "* * * * \n",
      "* * * * * \n"
     ]
    }
   ],
   "source": [
    "N=int(input())\n",
    "i=1\n",
    "while (i<=N):\n",
    "    print(\"* \"*i)\n",
    "    i=i+1"
   ]
  },
  {
   "cell_type": "code",
   "execution_count": 6,
   "metadata": {},
   "outputs": [
    {
     "name": "stdout",
     "output_type": "stream",
     "text": [
      "1 \n",
      "2 2 \n",
      "3 3 3 \n",
      "4 4 4 4 \n",
      "5 5 5 5 5 \n"
     ]
    }
   ],
   "source": [
    "N=int(input())\n",
    "i=1\n",
    "while (i<=N):\n",
    "    print((str(i)+\" \")*i)\n",
    "    i=i+1"
   ]
  }
 ],
 "metadata": {
  "kernelspec": {
   "display_name": "Python 3",
   "language": "python",
   "name": "python3"
  },
  "language_info": {
   "codemirror_mode": {
    "name": "ipython",
    "version": 3
   },
   "file_extension": ".py",
   "mimetype": "text/x-python",
   "name": "python",
   "nbconvert_exporter": "python",
   "pygments_lexer": "ipython3",
   "version": "3.11.2"
  },
  "orig_nbformat": 4,
  "vscode": {
   "interpreter": {
    "hash": "14a047b3ab8c058dfa04ca81eed526aeef754bcda3a648037d7fe9161bdac83c"
   }
  }
 },
 "nbformat": 4,
 "nbformat_minor": 2
}
