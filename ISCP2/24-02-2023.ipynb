{
 "cells": [
  {
   "cell_type": "code",
   "execution_count": 7,
   "metadata": {},
   "outputs": [
    {
     "name": "stdout",
     "output_type": "stream",
     "text": [
      "1   3 \n",
      "  2   \n",
      "1   3 \n"
     ]
    }
   ],
   "source": [
    "for i in range(1,4):\n",
    "    for j in range(1,4):\n",
    "        if i%2!=0:\n",
    "            if j%2!=0:\n",
    "                print(j,end=\" \")\n",
    "            else:\n",
    "                print(\" \",end=\" \")\n",
    "        else:\n",
    "            if j%2==0:\n",
    "                print(j,end=\" \")\n",
    "            else:\n",
    "                print(\" \",end=\" \")\n",
    "    print()"
   ]
  }
 ],
 "metadata": {
  "kernelspec": {
   "display_name": "Python 3",
   "language": "python",
   "name": "python3"
  },
  "language_info": {
   "codemirror_mode": {
    "name": "ipython",
    "version": 3
   },
   "file_extension": ".py",
   "mimetype": "text/x-python",
   "name": "python",
   "nbconvert_exporter": "python",
   "pygments_lexer": "ipython3",
   "version": "3.11.2"
  },
  "orig_nbformat": 4,
  "vscode": {
   "interpreter": {
    "hash": "14a047b3ab8c058dfa04ca81eed526aeef754bcda3a648037d7fe9161bdac83c"
   }
  }
 },
 "nbformat": 4,
 "nbformat_minor": 2
}
