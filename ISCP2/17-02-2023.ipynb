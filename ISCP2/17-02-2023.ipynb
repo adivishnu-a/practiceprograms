{
 "cells": [
  {
   "cell_type": "code",
   "execution_count": 3,
   "metadata": {},
   "outputs": [
    {
     "name": "stdout",
     "output_type": "stream",
     "text": [
      "Sum =  60\n"
     ]
    }
   ],
   "source": [
    "#q1\n",
    "n=int(input(\"Enter N : \"))\n",
    "sum=0\n",
    "for i in range(1, n+1):\n",
    "    if(i%3==0 or i%5==0):\n",
    "        sum=sum+i\n",
    "print(\"Sum = \",sum)"
   ]
  }
 ],
 "metadata": {
  "kernelspec": {
   "display_name": "Python 3",
   "language": "python",
   "name": "python3"
  },
  "language_info": {
   "codemirror_mode": {
    "name": "ipython",
    "version": 3
   },
   "file_extension": ".py",
   "mimetype": "text/x-python",
   "name": "python",
   "nbconvert_exporter": "python",
   "pygments_lexer": "ipython3",
   "version": "3.11.0"
  },
  "orig_nbformat": 4,
  "vscode": {
   "interpreter": {
    "hash": "14a047b3ab8c058dfa04ca81eed526aeef754bcda3a648037d7fe9161bdac83c"
   }
  }
 },
 "nbformat": 4,
 "nbformat_minor": 2
}
