{
 "cells": [
  {
   "cell_type": "code",
   "execution_count": 2,
   "metadata": {},
   "outputs": [
    {
     "name": "stdout",
     "output_type": "stream",
     "text": [
      "Number of zeros =  2\n"
     ]
    }
   ],
   "source": [
    "#jeero\n",
    "n=int(input(\"Enter number : \"))\n",
    "count=0\n",
    "if(n==0):\n",
    "    count=1\n",
    "else:\n",
    "    while(n!=0):\n",
    "        rem=n%10\n",
    "        if(rem==0 or rem==6 or rem==9):\n",
    "            count=count+1\n",
    "        elif(rem==8):\n",
    "            count=count+2\n",
    "        n=n//10\n",
    "print(\"Number of zeros = \",count)"
   ]
  },
  {
   "cell_type": "code",
   "execution_count": 3,
   "metadata": {},
   "outputs": [
    {
     "name": "stdout",
     "output_type": "stream",
     "text": [
      "Minimum element in the array is: 1\n"
     ]
    }
   ],
   "source": [
    "#q1\n",
    "arr = [3, 1, 4, 2, 6, 5]\n",
    "min_element = arr[0]\n",
    "for i in range(1, len(arr)):\n",
    "    if arr[i] < min_element:\n",
    "        min_element = arr[i]\n",
    "print(\"Minimum element in the array is:\", min_element)"
   ]
  },
  {
   "cell_type": "code",
   "execution_count": 4,
   "metadata": {},
   "outputs": [
    {
     "name": "stdout",
     "output_type": "stream",
     "text": [
      "Maximum element in the array is: 6\n"
     ]
    }
   ],
   "source": [
    "#q2\n",
    "arr = [3, 1, 4, 2, 6, 5]\n",
    "max_element = arr[0]\n",
    "for i in range(1, len(arr)):\n",
    "    if arr[i] > max_element:\n",
    "        max_element = arr[i]\n",
    "print(\"Maximum element in the array is:\", max_element)"
   ]
  },
  {
   "cell_type": "code",
   "execution_count": 5,
   "metadata": {},
   "outputs": [
    {
     "name": "stdout",
     "output_type": "stream",
     "text": [
      "Second smallest element in the array is: 2\n",
      "Second largest element in the array is: 5\n"
     ]
    }
   ],
   "source": [
    "#q3\n",
    "arr = [3, 1, 4, 2, 6, 5]\n",
    "\n",
    "# Find the second smallest element\n",
    "smallest = second_smallest = arr[0]\n",
    "for num in arr:\n",
    "    if num < smallest:\n",
    "        second_smallest = smallest\n",
    "        smallest = num\n",
    "    elif num < second_smallest and num != smallest:\n",
    "        second_smallest = num\n",
    "print(\"Second smallest element in the array is:\", second_smallest)\n",
    "\n",
    "# Find the second largest element\n",
    "largest = second_largest = arr[0]\n",
    "for num in arr:\n",
    "    if num > largest:\n",
    "        second_largest = largest\n",
    "        largest = num\n",
    "    elif num > second_largest and num != largest:\n",
    "        second_largest = num\n",
    "print(\"Second largest element in the array is:\", second_largest)"
   ]
  },
  {
   "cell_type": "code",
   "execution_count": 6,
   "metadata": {},
   "outputs": [
    {
     "name": "stdout",
     "output_type": "stream",
     "text": [
      "Reversed array: [5, 4, 3, 2, 1]\n"
     ]
    }
   ],
   "source": [
    "#q4\n",
    "arr = [1, 2, 3, 4, 5]\n",
    "\n",
    "# Reverse the array in place\n",
    "left = 0\n",
    "right = len(arr) - 1\n",
    "while left < right:\n",
    "    arr[left], arr[right] = arr[right], arr[left]\n",
    "    left += 1\n",
    "    right -= 1\n",
    "\n",
    "print(\"Reversed array:\", arr)"
   ]
  },
  {
   "cell_type": "code",
   "execution_count": 7,
   "metadata": {},
   "outputs": [
    {
     "name": "stdout",
     "output_type": "stream",
     "text": [
      "Original array: [1, 2, 3, 4, 5, 6, 7, 8, 9]\n",
      "Odd numbers: [1, 3, 5, 7, 9]\n",
      "Even numbers: [2, 4, 6, 8]\n"
     ]
    }
   ],
   "source": [
    "#q5\n",
    "arr = [1, 2, 3, 4, 5, 6, 7, 8, 9]\n",
    "\n",
    "odd = []\n",
    "even = []\n",
    "\n",
    "for num in arr:\n",
    "    if num % 2 == 0:\n",
    "        even.append(num)\n",
    "    else:\n",
    "        odd.append(num)\n",
    "\n",
    "print(\"Original array:\", arr)\n",
    "print(\"Odd numbers:\", odd)\n",
    "print(\"Even numbers:\", even)"
   ]
  },
  {
   "cell_type": "code",
   "execution_count": 8,
   "metadata": {},
   "outputs": [
    {
     "name": "stdout",
     "output_type": "stream",
     "text": [
      "Sorted array: [2, 3, 4, 5, 8]\n"
     ]
    }
   ],
   "source": [
    "#q6_bubble\n",
    "def bubble_sort(arr):\n",
    "    n = len(arr)\n",
    "\n",
    "    for i in range(n):\n",
    "        for j in range(n-i-1):\n",
    "            if arr[j] > arr[j+1]:\n",
    "                arr[j], arr[j+1] = arr[j+1], arr[j]\n",
    "\n",
    "    return arr\n",
    "\n",
    "arr = [5, 3, 8, 4, 2]\n",
    "sorted_arr = bubble_sort(arr)\n",
    "print(\"Sorted array:\", sorted_arr)"
   ]
  },
  {
   "cell_type": "code",
   "execution_count": 9,
   "metadata": {},
   "outputs": [
    {
     "name": "stdout",
     "output_type": "stream",
     "text": [
      "Sorted array: [2, 3, 4, 5, 8]\n"
     ]
    }
   ],
   "source": [
    "#q6_insertion\n",
    "def insertion_sort(arr):\n",
    "    n = len(arr)\n",
    "\n",
    "    for i in range(1, n):\n",
    "        current_element = arr[i]\n",
    "        j = i - 1\n",
    "\n",
    "        while j >= 0 and arr[j] > current_element:\n",
    "            arr[j+1] = arr[j]\n",
    "            j -= 1\n",
    "\n",
    "        arr[j+1] = current_element\n",
    "\n",
    "    return arr\n",
    "\n",
    "arr = [5, 3, 8, 4, 2]\n",
    "sorted_arr = insertion_sort(arr)\n",
    "print(\"Sorted array:\", sorted_arr)"
   ]
  },
  {
   "cell_type": "code",
   "execution_count": 10,
   "metadata": {},
   "outputs": [
    {
     "name": "stdout",
     "output_type": "stream",
     "text": [
      "Sorted array: [2, 3, 4, 5, 8]\n"
     ]
    }
   ],
   "source": [
    "#q6_selection\n",
    "def selection_sort(arr):\n",
    "    n = len(arr)\n",
    "    \n",
    "    for i in range(n):        \n",
    "        min_index = i\n",
    "        for j in range(i+1, n):\n",
    "            if arr[j] < arr[min_index]:\n",
    "                min_index = j        \n",
    "        arr[i], arr[min_index] = arr[min_index], arr[i]\n",
    "    return arr\n",
    "\n",
    "arr = [5, 3, 8, 4, 2]\n",
    "sorted_arr = selection_sort(arr)\n",
    "print(\"Sorted array:\", sorted_arr)"
   ]
  }
 ],
 "metadata": {
  "kernelspec": {
   "display_name": "Python 3",
   "language": "python",
   "name": "python3"
  },
  "language_info": {
   "codemirror_mode": {
    "name": "ipython",
    "version": 3
   },
   "file_extension": ".py",
   "mimetype": "text/x-python",
   "name": "python",
   "nbconvert_exporter": "python",
   "pygments_lexer": "ipython3",
   "version": "3.11.0"
  },
  "orig_nbformat": 4,
  "vscode": {
   "interpreter": {
    "hash": "14a047b3ab8c058dfa04ca81eed526aeef754bcda3a648037d7fe9161bdac83c"
   }
  }
 },
 "nbformat": 4,
 "nbformat_minor": 2
}
