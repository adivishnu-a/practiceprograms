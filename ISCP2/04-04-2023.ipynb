{
 "cells": [
  {
   "cell_type": "code",
   "execution_count": 5,
   "metadata": {},
   "outputs": [
    {
     "name": "stdout",
     "output_type": "stream",
     "text": [
      "1      5\n",
      "  2  4  \n",
      "    3    \n",
      "  2  4  \n",
      "1      5\n"
     ]
    }
   ],
   "source": [
    "def print_x_shape(n):\n",
    "    for i in range(int(n/2)):\n",
    "        for j in range(n):\n",
    "            if i == j:\n",
    "                print(i+1, end='')\n",
    "            elif i == n-j-1:\n",
    "                print(n-i, end='')\n",
    "            else:\n",
    "                print(' ', end=' ')\n",
    "        print()\n",
    "    for i in range(int(n/2), -1, -1):\n",
    "        for j in range(n):\n",
    "            if i == j:\n",
    "                print(i+1, end='')\n",
    "            elif i == n-j-1:\n",
    "                print(n-i, end='')\n",
    "            else:\n",
    "                print(' ', end=' ')\n",
    "        print()\n",
    "\n",
    "n = 5\n",
    "print_x_shape(n)\n"
   ]
  }
 ],
 "metadata": {
  "kernelspec": {
   "display_name": "Python 3",
   "language": "python",
   "name": "python3"
  },
  "language_info": {
   "codemirror_mode": {
    "name": "ipython",
    "version": 3
   },
   "file_extension": ".py",
   "mimetype": "text/x-python",
   "name": "python",
   "nbconvert_exporter": "python",
   "pygments_lexer": "ipython3",
   "version": "3.11.2"
  },
  "orig_nbformat": 4,
  "vscode": {
   "interpreter": {
    "hash": "14a047b3ab8c058dfa04ca81eed526aeef754bcda3a648037d7fe9161bdac83c"
   }
  }
 },
 "nbformat": 4,
 "nbformat_minor": 2
}
